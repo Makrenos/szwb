{
 "cells": [
  {
   "cell_type": "code",
   "execution_count": 65,
   "metadata": {},
   "outputs": [],
   "source": [
    "import pandas as pd\n",
    "import numpy as np\n",
    "import nltk\n",
    "import matplotlib.pyplot as plt\n",
    "from sklearn.linear_model import LogisticRegression\n",
    "from sklearn.metrics import roc_auc_score\n",
    "from sklearn.ensemble import RandomForestRegressor\n",
    "from sklearn import tree\n",
    "from nltk.tokenize import word_tokenize\n",
    "from nltk.tag import pos_tag\n",
    "from nltk.chunk import conlltags2tree, tree2conlltags\n",
    "from pprint import pprint\n",
    "%matplotlib inline"
   ]
  },
  {
   "cell_type": "code",
   "execution_count": 66,
   "metadata": {
    "tags": []
   },
   "outputs": [
    {
     "output_type": "stream",
     "name": "stdout",
     "text": [
      "        Sentences  Word POS\n0  Sentence: 9001    In  IN\n1             NaN  2005  CD\n"
     ]
    }
   ],
   "source": [
    "fields = ['Sentence','Word', 'POS', 'Tag']\n",
    "\n",
    "train = pd.read_csv(\"./data/TrainNER.csv\",sep=';',na_values='', encoding='latin1')\n",
    "\n",
    "test1 = pd.read_csv(\"./data/Test1NER.csv\",sep=';',na_values='', encoding='latin1')\n",
    "test2 = pd.read_csv(\"./data/Test2NER.csv\",sep=';',na_values='', encoding='latin1')\n",
    "\n",
    "#Add columns to test1 df\n",
    "test1.loc[-1] = [test1.columns[0], test1.columns[1], test1.columns[2]]  # rename columns\n",
    "test1.index = test1.index + 1  # shifting index\n",
    "test1 = test1.sort_index()  # sorting by index\n",
    "test1 = test1.rename(columns={test1.columns[0]: 'Sentences', test1.columns[1]: 'Word',test1.columns[2]:  'POS'}) # adding first row\n",
    "\n",
    "#Add columns to test2 df\n",
    "test2.loc[-1] = [test2.columns[0], test2.columns[1]]  # rename columns\n",
    "test2.index = test2.index + 1  # shifting index\n",
    "test2 = test2.sort_index()  # sorting by index\n",
    "test2 = test2.rename(columns={test2.columns[0]: 'Sentences', test2.columns[1]: 'Word'}) # adding first row\n",
    "\n",
    "test1_format = pd.read_csv(\"./data/Test1NER_PredictedFormat.csv\",sep=';',na_values='', encoding='latin1')\n",
    "test2_format = pd.read_csv(\"./data/Test2NER_PredictedFormat.csv\",sep=';',na_values='', encoding='latin1')\n",
    "\n",
    "#print(test1.iloc[0:2])"
   ]
  },
  {
   "cell_type": "code",
   "execution_count": 67,
   "metadata": {
    "tags": [
     "outputPrepend"
    ]
   },
   "outputs": [
    {
     "output_type": "stream",
     "name": "stdout",
     "text": [
      "nts', 'NNS'), ('in', 'IN'), ('the', 'DT'), ('Gaza', 'NNP'), ('Strip', 'NNP'), ('.', '.'), ('Hundreds', 'NNS'), ('of', 'IN'), ('Libyan', 'JJ'), ('opposition', 'NN'), ('members', 'NNS'), ('have', 'VBP'), ('concluded', 'VBN'), ('a', 'DT'), ('two-day', 'JJ'), ('conference', 'NN'), ('in', 'IN'), ('London', 'NNP'), ('to', 'TO'), ('discuss', 'VB'), ('strategies', 'NNS'), ('for', 'IN'), ('ousting', 'VBG'), ('Moammar', 'NNP'), ('Gadhafi', 'NNP'), ('from', 'IN'), ('power', 'NN'), ('.', '.'), ('The', 'DT'), ('opposition', 'NN'), ('leaders', 'NNS'), ('are', 'VBP'), ('calling', 'VBG'), ('on', 'IN'), ('the', 'DT'), ('United', 'NNP'), ('Nations', 'NNPS'), ('to', 'TO'), ('push', 'VB'), ('for', 'IN'), ('regime', 'NN'), ('change', 'NN'), ('in', 'IN'), ('Libya', 'NNP'), ('and', 'CC'), ('for', 'IN'), ('the', 'DT'), ('restoration', 'NN'), ('of', 'IN'), ('Libya', 'NNP'), (\"'s\", 'POS'), ('constitution', 'NN'), ('.', '.'), ('The', 'DT'), ('leaders', 'NNS'), ('said', 'VBD'), ('Sunday', 'NNP'), ('they', 'PRP'), ('intend', 'VBP'), ('to', 'TO'), ('form', 'VB'), ('a', 'DT'), ('provisional', 'JJ'), ('government', 'NN'), ('that', 'WDT'), ('would', 'MD'), ('last', 'VB'), ('no', 'RB'), ('longer', 'JJR'), ('than', 'IN'), ('one', 'CD'), ('year', 'NN'), (',', ','), ('then', 'RB'), ('launch', 'VB'), ('a', 'DT'), ('democratic', 'JJ'), ('constitutional', 'JJ'), ('government', 'NN'), ('built', 'VBN'), ('on', 'IN'), ('cultural', 'JJ'), ('pluralism', 'NN'), ('and', 'CC'), ('a', 'DT'), ('rotating', 'VBG'), ('presidency', 'NN'), ('.', '.'), ('The', 'DT'), ('United', 'NNP'), ('States', 'NNPS'), ('re-established', 'VBD'), ('limited', 'JJ'), ('diplomatic', 'JJ'), ('ties', 'NNS'), ('with', 'IN'), ('Libya', 'NNP'), ('last', 'JJ'), ('year', 'NN'), ('after', 'IN'), ('Colonel', 'NNP'), ('Gadhafi', 'NNP'), ('announced', 'VBD'), ('Tripoli', 'NNP'), ('would', 'MD'), ('abandon', 'VB'), ('its', 'PRP$'), ('chemical', 'NN'), ('and', 'CC'), ('nuclear', 'JJ'), ('weapons', 'NNS'), ('programs', 'NNS'), ('.', '.'), ('Colonel', 'NNP'), ('Gadhafi', 'NNP'), ('seized', 'VBD'), ('power', 'NN'), ('during', 'IN'), ('a', 'DT'), ('1969', 'CD'), ('political', 'JJ'), ('coup', 'NN'), ('.', '.'), ('The', 'DT'), ('United', 'NNP'), ('States', 'NNP'), ('Army', 'NNP'), ('has', 'VBZ'), ('charged', 'VBN'), ('the', 'DT'), ('former', 'JJ'), ('head', 'NN'), ('of', 'IN'), ('the', 'DT'), ('interrogation', 'NN'), ('center', 'NN'), ('at', 'IN'), ('Abu', 'NNP'), ('Ghraib', 'NNP'), ('prison', 'NN'), ('in', 'IN'), ('Iraq', 'NNP'), ('for', 'IN'), ('his', 'PRP$'), ('alleged', 'JJ'), ('involvement', 'NN'), ('in', 'IN'), ('the', 'DT'), ('abuse', 'NN'), ('of', 'IN'), ('detainees', 'NNS'), ('.', '.'), ('The', 'DT'), ('Army', 'NNP'), ('announced', 'VBD'), ('Friday', 'NNP'), ('that', 'IN'), ('Lt.', 'NNP'), ('Col.', 'NNP'), ('Steven', 'NNP'), ('L.', 'NNP'), ('Jordan', 'NNP'), ('would', 'MD'), ('face', 'VB'), ('12', 'CD'), ('counts', 'NNS'), (',', ','), ('including', 'VBG'), ('cruelty', 'NN'), ('and', 'CC'), ('maltreatment', 'NN'), (',', ','), ('dereliction', 'NN'), ('of', 'IN'), ('duty', 'NN'), (',', ','), ('and', 'CC'), ('interfering', 'VBG'), ('with', 'IN'), ('the', 'DT'), ('abuse', 'NN'), ('investigation', 'NN'), ('.', '.'), ('Colonel', 'NNP'), ('Jordan', 'NNP'), ('is', 'VBZ'), ('the', 'DT'), ('highest-ranking', 'JJ'), ('officer', 'NN'), ('to', 'TO'), ('face', 'VB'), ('criminal', 'JJ'), ('charges', 'NNS'), ('stemming', 'VBG'), ('from', 'IN'), ('Abu', 'NNP'), ('Ghraib', 'NNP'), ('.', '.'), ('He', 'PRP'), ('ran', 'VBD'), ('the', 'DT'), ('interrogation', 'NN'), ('center', 'NN'), ('at', 'IN'), ('the', 'DT'), ('prison', 'NN'), ('in', 'IN'), ('late', 'JJ'), ('2003', 'CD'), (',', ','), ('a', 'DT'), ('time', 'NN'), ('when', 'WRB'), ('U.S.', 'NNP'), ('military', 'JJ'), ('leaders', 'NNS'), ('wanted', 'VBD'), ('information', 'NN'), ('from', 'IN'), ('detainees', 'NNS'), ('to', 'TO'), ('combat', 'VB'), ('the', 'DT'), ('rising', 'VBG'), ('Iraqi', 'JJ'), ('insurgency', 'NN'), ('.', '.'), ('So', 'RB'), ('far', 'RB'), (',', ','), ('only', 'RB'), ('a', 'DT'), ('handful', 'NN'), ('of', 'IN'), ('low-ranking', 'JJ'), ('soldiers', 'NNS'), ('have', 'VBP'), ('been', 'VBN'), ('prosecuted', 'VBN'), ('for', 'IN'), ('abuses', 'NNS'), ('at', 'IN'), ('Abu', 'NNP'), ('Ghraib', 'NNP'), ('.', '.'), ('Officers', 'NNS'), ('above', 'IN'), ('Jordan', 'NNP'), (\"'s\", 'POS'), ('rank', 'NN'), ('have', 'VBP'), ('been', 'VBN'), ('reprimanded', 'VBN'), ('and', 'CC'), ('relieved', 'VBN'), ('of', 'IN'), ('command', 'NN'), (',', ','), ('but', 'CC'), ('none', 'NN'), ('has', 'VBZ'), ('faced', 'VBN'), ('criminal', 'JJ'), ('charges', 'NNS'), ('.', '.'), ('A', 'DT'), ('U.S.', 'NNP'), ('senator', 'NN'), ('is', 'VBZ'), ('asking', 'VBG'), ('Americans', 'NNS'), ('whether', 'IN'), ('a', 'DT'), ('current', 'JJ'), ('proposal', 'NN'), ('to', 'TO'), ('overhaul', 'VB'), ('the', 'DT'), ('American', 'JJ'), ('health-care', 'NN'), ('system', 'NN'), ('would', 'MD'), ('actually', 'RB'), ('make', 'VB'), ('things', 'NNS'), ('better', 'JJR'), ('.', '.'), ('Speaking', 'VBG'), ('in', 'IN'), ('the', 'DT'), ('weekly', 'JJ'), ('Republican', 'NNP'), ('address', 'NN'), ('Saturday', 'NNP'), (',', ','), ('Senator', 'NNP'), ('Mike', 'NNP'), ('Johanns', 'NNP'), ('from', 'IN'), ('the', 'DT'), ('state', 'NN'), ('of', 'IN'), ('Nebraska', 'NNP'), ('said', 'VBD'), ('the', 'DT'), ('proposal', 'NN'), ('could', 'MD'), ('negatively', 'RB'), ('impact', 'VB'), ('\"', '``'), ('each', 'DT'), ('and', 'CC'), ('every', 'DT'), ('\"', '``'), ('American', 'NN'), ('.', '.'), ('President', 'NNP'), ('Barack', 'NNP'), ('Obama', 'NNP'), (',', ','), ('from', 'IN'), ('the', 'DT'), ('majority', 'NN'), ('Democratic', 'NNP'), ('Party', 'NNP'), (',', ','), ('is', 'VBZ'), ('pushing', 'VBG'), ('for', 'IN'), ('a', 'DT'), ('bill', 'NN'), ('to', 'TO'), ('be', 'VB'), ('passed', 'VBN'), ('by', 'IN'), ('the', 'DT'), ('end', 'NN'), ('of', 'IN'), ('the', 'DT'), ('year', 'NN'), ('.', '.'), ('He', 'PRP'), ('says', 'VBZ'), ('health', 'NN'), ('care', 'NN'), ('costs', 'NNS'), ('are', 'VBP'), ('spiraling', 'VBG'), ('out', 'IN'), ('of', 'IN'), ('control', 'NN'), ('and', 'CC'), ('making', 'VBG'), ('it', 'PRP'), ('difficult', 'JJ'), ('for', 'IN'), ('small', 'JJ'), ('businesses', 'NNS'), ('to', 'TO'), ('compete', 'VB'), ('.', '.'), ('He', 'PRP'), ('says', 'VBZ'), ('too', 'RB'), ('many', 'JJ'), ('Americans', 'NNS'), ('are', 'VBP'), ('not', 'RB'), ('insured', 'VBN'), ('or', 'CC'), ('go', 'VB'), ('bankrupt', 'JJ'), ('to', 'TO'), ('pay', 'VB'), ('for', 'IN'), ('health', 'NN'), ('care', 'NN'), ('.', '.'), ('Proposals', 'NNS'), ('to', 'TO'), ('reform', 'VB'), ('the', 'DT'), ('system', 'NN'), ('are', 'VBP'), ('currently', 'RB'), ('under', 'IN'), ('discussion', 'NN'), ('in', 'IN'), ('both', 'DT'), ('the', 'DT'), ('Senate', 'NNP'), ('and', 'CC'), ('the', 'DT'), ('House', 'NNP'), ('of', 'IN'), ('Representatives', 'NNPS'), ('.', '.'), ('Republicans', 'NNS'), ('say', 'VBP'), ('the', 'DT'), ('proposals', 'NNS'), ('are', 'VBP'), ('too', 'RB'), ('expensive', 'JJ'), ('and', 'CC'), ('will', 'MD'), ('not', 'RB'), ('improve', 'VB'), ('the', 'DT'), ('current', 'JJ'), ('system', 'NN'), ('.', '.'), ('Negotiators', 'NNS'), ('from', 'IN'), ('the', 'DT'), ('Sudanese', 'JJ'), ('government', 'NN'), ('and', 'CC'), ('two', 'CD'), ('Darfur', 'NNP'), ('rebel', 'NN'), ('groups', 'NNS'), ('are', 'VBP'), ('expected', 'VBN'), ('in', 'IN'), ('Nigeria', 'NNP'), (\"'s\", 'POS'), ('capital', 'NN'), (',', ','), ('Abuja', 'NNP'), (',', ','), ('for', 'IN'), ('a', 'DT'), ('new', 'JJ'), ('round', 'NN'), ('of', 'IN'), ('peace', 'NN'), ('talks', 'NNS'), ('to', 'TO'), ('begin', 'VB'), ('on', 'IN'), ('Thursday', 'NNP'), ('.', '.'), ('The', 'DT'), ('African', 'NNP'), ('Union', 'NNP'), ('will', 'MD'), ('mediate', 'VB'), ('the', 'DT'), ('talks', 'NNS'), (',', ','), ('aimed', 'VBN'), ('at', 'IN'), ('ending', 'VBG'), ('a', 'DT'), ('two-and-a-half-year', 'JJ'), ('conflict', 'NN'), ('in', 'IN'), ('Sudan', 'NNP'), (\"'s\", 'POS'), ('western', 'JJ'), ('Darfur', 'NNP'), ('region', 'NN'), ('.', '.'), ('Several', 'JJ'), ('previous', 'JJ'), ('rounds', 'NNS'), ('have', 'VBP'), ('failed', 'VBN'), ('.', '.'), ('The', 'DT'), ('last', 'JJ'), ('talks', 'NNS'), ('in', 'IN'), ('June', 'NNP'), ('stalled', 'VBD'), ('over', 'IN'), ('rebel', 'NN'), ('demands', 'NNS'), ('that', 'WDT'), ('Chad', 'VBP'), ('not', 'RB'), ('be', 'VB'), ('allowed', 'VBN'), ('to', 'TO'), ('help', 'VB'), ('mediate', 'VB'), ('the', 'DT'), ('negotiations', 'NNS'), ('.', '.'), ('A', 'DT'), ('ceasefire', 'JJ'), ('agreement', 'NN'), ('has', 'VBZ'), ('also', 'RB'), ('been', 'VBN'), ('repeatedly', 'RB'), ('violated', 'VBN'), ('.', '.'), ('Last', 'JJ'), ('week', 'NN'), (',', ','), ('the', 'DT'), ('United', 'NNP'), ('Nations', 'NNPS'), ('said', 'VBD'), ('there', 'EX'), ('have', 'VBP'), ('been', 'VBN'), ('many', 'JJ'), ('reports', 'NNS'), ('in', 'IN'), ('Darfur', 'NNP'), ('of', 'IN'), ('banditry', 'NN'), (',', ','), ('looting', 'VBG'), (',', ','), ('alleged', 'JJ'), ('attacks', 'NNS'), ('on', 'IN'), ('villages', 'NNS'), ('and', 'CC'), ('continued', 'JJ'), ('fighting', 'NN'), ('.', '.'), ('The', 'DT'), ('conflict', 'NN'), ('pits', 'VBZ'), ('rebels', 'NNS'), ('of', 'IN'), ('African', 'JJ'), ('descent', 'NN'), ('against', 'IN'), ('pro-government', 'JJ'), ('Arab', 'JJ'), ('militiamen', 'NNS'), ('.', '.'), ('An', 'DT'), ('estimated', 'VBN'), ('1,80,000', 'CD'), ('people', 'NNS'), ('have', 'VBP'), ('been', 'VBN'), ('killed', 'VBN'), ('and', 'CC'), ('2', 'CD'), ('million', 'CD'), ('others', 'NNS'), ('have', 'VBP'), ('been', 'VBN'), ('displaced', 'VBN'), ('.', '.'), ('Former', 'JJ'), ('U.S.', 'NNP'), ('President', 'NNP'), ('Bill', 'NNP'), ('Clinton', 'NNP'), ('used', 'VBD'), ('a', 'DT'), ('speech', 'NN'), ('in', 'IN'), ('Taiwan', 'NNP'), ('to', 'TO'), ('stress', 'VB'), ('the', 'DT'), ('need', 'NN'), ('for', 'IN'), ('nations', 'NNS'), ('to', 'TO'), ('depend', 'VB'), ('more', 'RBR'), ('on', 'IN'), ('one', 'CD'), ('another', 'DT'), ('.', '.'), ('Mr.', 'NNP'), ('Clinton', 'NNP'), ('arrived', 'VBD'), ('in', 'IN'), ('Taipei', 'NNP'), ('late', 'JJ'), ('Sunday', 'NNP'), ('for', 'IN'), ('a', 'DT'), ('one-day', 'JJ'), ('visit', 'NN'), ('that', 'WDT'), ('had', 'VBD'), ('prompted', 'VBN'), ('concern', 'NN'), ('from', 'IN'), ('China', 'NNP'), ('.', '.'), ('In', 'IN'), ('his', 'PRP$'), ('speech', 'NN'), ('at', 'IN'), ('the', 'DT'), ('city', 'NN'), (\"'s\", 'POS'), ('International', 'NNP'), ('Convention', 'NNP'), ('Center', 'NNP'), (',', ','), ('the', 'DT'), ('former', 'JJ'), ('president', 'NN'), ('urged', 'VBD'), ('China', 'NNP'), ('and', 'CC'), ('Taiwan', 'NNP'), ('to', 'TO'), ('resolve', 'VB'), ('their', 'PRP$'), ('differences', 'NNS'), ('and', 'CC'), ('work', 'VB'), ('together', 'RB'), ('peacefully', 'RB'), ('.', '.'), ('Before', 'IN'), ('his', 'PRP$'), ('arrival', 'NN'), (',', ','), ('Mr.', 'NNP'), ('Clinton', 'NNP'), ('told', 'VBD'), ('a', 'DT'), ('Hong', 'NNP'), ('Kong', 'NNP'), ('newspaper', 'NN'), ('group', 'NN'), ('he', 'PRP'), ('supports', 'VBZ'), ('Beijing', 'NNP'), (\"'s\", 'POS'), ('one-China', 'NNP'), ('policy', 'NN'), (',', ','), ('which', 'WDT'), ('claims', 'VBZ'), ('Taiwan', 'NNP'), ('as', 'IN'), ('part', 'NN'), ('of', 'IN'), ('China', 'NNP'), ('.', '.'), ('The', 'DT'), ('United', 'NNP'), ('States', 'NNPS'), ('observes', 'VBZ'), ('the', 'DT'), ('policy', 'NN'), ('and', 'CC'), ('has', 'VBZ'), ('no', 'DT'), ('official', 'JJ'), ('diplomatic', 'JJ'), ('ties', 'NNS'), ('with', 'IN'), ('Taiwan', 'NNP'), ('.', '.'), ('Later', 'RB'), ('Sunday', 'NNP'), (',', ','), ('Mr.', 'NNP'), ('Clinton', 'NNP'), ('had', 'VBD'), ('dinner', 'NN'), ('with', 'IN'), ('President', 'NNP'), ('Chen', 'NNP'), ('Shui-bian', 'NNP'), ('.', '.'), ('On', 'IN'), ('Monday', 'NNP'), ('he', 'PRP'), ('was', 'VBD'), ('expected', 'VBN'), ('to', 'TO'), ('attend', 'VB'), ('a', 'DT'), ('book-signing', 'NN'), ('for', 'IN'), ('his', 'PRP$'), ('autobiography', 'NN'), (',', ','), ('\"', '``'), ('My', 'PRP$'), ('Life', 'NN'), (',', ','), ('\"', '``'), ('which', 'WDT'), ('he', 'PRP'), ('recently', 'RB'), ('promoted', 'VBD'), ('in', 'IN'), ('China', 'NNP'), ('and', 'CC'), ('Japan', 'NNP'), ('.', '.'), ('Pakistan', 'NNP'), ('has', 'VBZ'), ('reiterated', 'VBN'), ('its', 'PRP$'), ('support', 'NN'), ('for', 'IN'), ('resolving', 'VBG'), ('the', 'DT'), ('row', 'NN'), ('over', 'IN'), ('Iran', 'NNP'), (\"'s\", 'POS'), ('controversial', 'JJ'), ('nuclear', 'JJ'), ('program', 'NN'), ('through', 'IN'), ('dialogue', 'NN'), (',', ','), ('saying', 'VBG'), ('it', 'PRP'), ('opposes', 'VBZ'), ('the', 'DT'), ('use', 'NN'), ('of', 'IN'), ('force', 'NN'), ('against', 'IN'), ('its', 'PRP$'), ('western', 'JJ'), ('neighbor', 'NN'), ('.', '.'), ('Pakistani', 'JJ'), ('Foreign', 'JJ'), ('Minister', 'NNP'), ('Khursheed', 'NNP'), ('Mehmood', 'NNP'), ('Kasuri', 'NNP'), ('says', 'VBZ'), ('he', 'PRP'), ('hopes', 'VBZ'), ('talks', 'NNS'), ('between', 'IN'), ('Iran', 'NNP'), ('and', 'CC'), ('the', 'DT'), ('European', 'NNP'), ('Union', 'NNP'), ('will', 'MD'), ('lead', 'VB'), ('to', 'TO'), (',', ','), ('in', 'IN'), ('his', 'PRP$'), ('words', 'NNS'), (',', ','), ('\"', '``'), ('an', 'DT'), ('amicable', 'JJ'), ('solution', 'NN'), ('.', '.'), ('\"', '``'), ('He', 'PRP'), ('spoke', 'VBD'), ('during', 'IN'), ('a', 'DT'), ('meeting', 'NN'), ('with', 'IN'), ('his', 'PRP$'), ('visiting', 'VBG'), ('Iranian', 'JJ'), ('counterpart', 'NN'), (',', ','), ('Manouchehr', 'NNP'), ('Mottaki', 'NNP'), ('.', '.'), ('Talks', 'NNS'), ('between', 'IN'), ('Iran', 'NNP'), ('and', 'CC'), ('EU', 'NNP'), ('negotiators', 'NNS'), ('aimed', 'VBN'), ('at', 'IN'), ('persuading', 'VBG'), ('Tehran', 'NNP'), ('to', 'TO'), ('stop', 'VB'), ('enriching', 'VBG'), ('uranium', 'NN'), ('collapsed', 'VBD'), ('in', 'IN'), ('August', 'NNP'), ('but', 'CC'), ('will', 'MD'), ('resume', 'VB'), ('later', 'RB'), ('this', 'DT'), ('month', 'NN'), ('.', '.'), ('Pakistan', 'NNP'), ('has', 'VBZ'), ('been', 'VBN'), ('one', 'CD'), ('of', 'IN'), ('few', 'JJ'), ('nations', 'NNS'), ('to', 'TO'), ('defend', 'VB'), ('Iran', 'NNP'), (\"'s\", 'POS'), ('nuclear', 'JJ'), ('program', 'NN'), ('from', 'IN'), ('international', 'JJ'), ('criticism', 'NN'), (',', ','), ('saying', 'VBG'), ('all', 'DT'), ('nations', 'NNS'), ('have', 'VBP'), ('a', 'DT'), ('right', 'NN'), ('to', 'TO'), ('nuclear', 'JJ'), ('power', 'NN'), ('.', '.'), ('Mr.', 'NNP'), ('Mottaki', 'NNP'), (',', ','), ('who', 'WP'), ('arrived', 'VBD'), ('in', 'IN'), ('Pakistan', 'NNP'), ('Wednesday', 'NNP'), ('for', 'IN'), ('a', 'DT'), ('two-day', 'JJ'), ('visit', 'NN'), (',', ','), ('says', 'VBZ'), ('he', 'PRP'), ('and', 'CC'), ('Mr.', 'NNP'), ('Kasuri', 'NNP'), ('also', 'RB'), ('discussed', 'VBD'), ('expanding', 'VBG'), ('economic', 'JJ'), ('cooperation', 'NN'), ('and', 'CC'), ('a', 'DT'), ('proposed', 'VBN'), ('gas', 'NN'), ('pipeline', 'NN'), ('project', 'NN'), ('.', '.'), ('President', 'NNP'), ('Bush', 'NNP'), ('is', 'VBZ'), ('to', 'TO'), ('visit', 'VB'), ('the', 'DT'), ('western', 'JJ'), ('U.S.', 'NNP'), ('state', 'NN'), ('of', 'IN'), ('Arizona', 'NNP'), ('Monday', 'NNP'), ('to', 'TO'), ('give', 'VB'), ('a', 'DT'), ('speech', 'NN'), ('on', 'IN'), ('illegal', 'JJ'), ('immigration', 'NN'), ('.', '.'), ('White', 'NNP'), ('House', 'NNP'), ('officials', 'NNS'), ('say', 'VBP'), ('Mr.', 'NNP'), ('Bush', 'NNP'), (\"'s\", 'POS'), ('speech', 'NN'), ('in', 'IN'), ('Tucson', 'NNP'), ('will', 'MD'), ('focus', 'VB'), ('on', 'IN'), ('border', 'NN'), ('security', 'NN'), (',', ','), ('enforcement', 'NN'), ('and', 'CC'), ('a', 'DT'), ('temporary', 'JJ'), ('worker', 'NN'), ('program', 'NN'), ('.', '.'), ('He', 'PRP'), ('will', 'MD'), ('travel', 'VB'), ('to', 'TO'), ('El~Paso', 'NNP'), (',', ','), ('Texas', 'NNP'), ('on', 'IN'), ('Tuesday', 'NNP'), ('to', 'TO'), ('discuss', 'VB'), ('the', 'DT'), ('same', 'JJ'), ('issues', 'NNS'), ('.', '.'), ('In', 'IN'), ('January', 'NNP'), (',', ','), ('the', 'DT'), ('president', 'NN'), ('proposed', 'VBD'), ('a', 'DT'), ('temporary', 'JJ'), ('worker', 'NN'), ('program', 'NN'), ('that', 'WDT'), ('would', 'MD'), ('match', 'VB'), ('foreign', 'JJ'), ('workers', 'NNS'), ('with', 'IN'), ('U.S.', 'NNP'), ('employers', 'NNS'), ('when', 'WRB'), ('no', 'DT'), ('Americans', 'NNS'), ('can', 'MD'), ('be', 'VB'), ('found', 'VBN'), ('to', 'TO'), ('fill', 'VB'), ('the', 'DT'), ('jobs', 'NNS'), ('.', '.'), ('The', 'DT'), ('immigrants', 'NNS'), ('would', 'MD'), ('be', 'VB'), ('allowed', 'VBN'), ('to', 'TO'), ('work', 'VB'), ('in', 'IN'), ('the', 'DT'), ('United', 'NNP'), ('States', 'NNPS'), ('for', 'IN'), ('up', 'RP'), ('to', 'TO'), ('six', 'CD'), ('years', 'NNS'), ('.', '.'), ('Supporters', 'NNS'), ('of', 'IN'), ('the', 'DT'), ('proposal', 'NN'), ('say', 'VBP'), ('it', 'PRP'), ('will', 'MD'), ('create', 'VB'), ('incentives', 'NNS'), ('for', 'IN'), ('legal', 'JJ'), ('immigration', 'NN'), ('and', 'CC'), ('boost', 'VB'), ('the', 'DT'), ('economy', 'NN'), ('.', '.'), ('Critics', 'NNS'), ('of', 'IN'), ('the', 'DT'), ('program', 'NN'), ('say', 'VBP'), ('it', 'PRP'), ('is', 'VBZ'), ('a', 'DT'), ('form', 'NN'), ('of', 'IN'), ('amnesty', 'NN'), ('for', 'IN'), ('people', 'NNS'), ('who', 'WP'), ('enter', 'VBP'), ('the', 'DT'), ('country', 'NN'), ('illegally', 'RB'), ('.', '.'), ('World', 'NNP'), ('oil', 'NN'), ('prices', 'NNS'), ('eased', 'VBD'), ('downward', 'JJ'), ('Friday', 'NNP'), ('but', 'CC'), ('U.S.', 'NNP'), ('retail', 'JJ'), ('gasoline', 'NN'), ('prices', 'NNS'), ('hit', 'VBD'), ('fresh', 'JJ'), ('record', 'NN'), ('highs', 'NNS'), (',', ','), ('which', 'WDT'), ('cut', 'VBD'), ('travel', 'NN'), ('on', 'IN'), ('the', 'DT'), ('Independence', 'NNP'), ('Day', 'NNP'), ('holiday', 'NN'), ('.', '.'), ('A', 'DT'), ('barrel', 'NN'), ('of', 'IN'), ('oil', 'NN'), ('for', 'IN'), ('future', 'JJ'), ('delivery', 'NN'), ('cost', 'VBD'), ('$', '$'), ('144', 'CD'), ('in', 'IN'), ('electronic', 'JJ'), ('trading', 'NN'), ('in', 'IN'), ('New', 'NNP'), ('York', 'NNP'), (',', ','), ('a', 'DT'), ('decline', 'NN'), ('of', 'IN'), ('about', 'IN'), ('$', '$'), ('2', 'CD'), ('from', 'IN'), ('Thursday', 'NNP'), (\"'s\", 'POS'), ('record', 'NN'), ('high', 'JJ'), ('price', 'NN'), ('.', '.'), ('A', 'DT'), ('majority', 'NN'), ('of', 'IN'), ('analysts', 'NNS'), ('interviewed', 'VBN'), ('by', 'IN'), ('the', 'DT'), ('Bloomberg', 'NNP'), ('financial', 'JJ'), ('news', 'NN'), ('service', 'NN'), ('say', 'VBP'), ('oil', 'NN'), ('prices', 'NNS'), ('are', 'VBP'), ('likely', 'JJ'), ('to', 'TO'), ('rise', 'VB'), ('next', 'JJ'), ('week', 'NN'), ('because', 'IN'), ('of', 'IN'), ('concerns', 'NNS'), ('that', 'IN'), ('Mideast', 'JJ'), ('tensions', 'NNS'), ('will', 'MD'), ('continue', 'VB'), ('and', 'CC'), ('the', 'DT'), ('dollar', 'NN'), ('might', 'MD'), ('weaken', 'VB'), ('.', '.'), ('Oil', 'NN'), ('is', 'VBZ'), ('priced', 'VBN'), ('in', 'IN'), ('dollars', 'NNS'), (',', ','), ('so', 'IN'), ('a', 'DT'), ('lower', 'JJR'), ('value', 'NN'), ('tends', 'VBZ'), ('to', 'TO'), ('raise', 'VB'), ('the', 'DT'), ('price', 'NN'), ('of', 'IN'), ('oil', 'NN'), ('.', '.'), ('Soaring', 'VBG'), ('oil', 'NN'), ('prices', 'NNS'), ('have', 'VBP'), ('pushed', 'VBN'), ('U.S.', 'NNP'), ('retail', 'JJ'), ('gasoline', 'NN'), ('prices', 'NNS'), ('to', 'TO'), ('a', 'DT'), ('series', 'NN'), ('of', 'IN'), ('record', 'NN'), ('highs', 'NNS'), ('.', '.'), ('The', 'DT'), ('latest', 'JJS'), ('survey', 'NN'), ('puts', 'VBZ'), ('the', 'DT'), ('average', 'JJ'), ('price', 'NN'), ('at', 'IN'), ('nearly', 'RB'), ('$', '$'), ('42743', 'CD'), ('a', 'DT'), ('liter', 'NN'), ('(', 'LRB'), ('$', '$'), ('42826', 'CD'), ('a', 'DT'), ('gallon', 'NN'), (')', 'RRB'), ('.', '.'), ('That', 'DT'), ('is', 'VBZ'), ('an', 'DT'), ('increase', 'NN'), ('of', 'IN'), ('30', 'CD'), ('cents', 'NNS'), ('a', 'DT'), ('liter', 'NN'), ('in', 'IN'), ('the', 'DT'), ('past', 'JJ'), ('year', 'NN'), ('.', '.'), ('The', 'DT'), ('death', 'NN'), ('toll', 'NN'), ('from', 'IN'), ('violence', 'NN'), ('in', 'IN'), ('Sudan', 'NNP'), ('following', 'VBG'), ('the', 'DT'), ('death', 'NN'), ('of', 'IN'), ('former', 'JJ'), ('rebel', 'JJ'), ('leader', 'NN'), ('and', 'CC'), ('Vice', 'NNP'), ('President', 'NNP'), ('John', 'NNP'), ('Garang', 'NNP'), ('has', 'VBZ'), ('surpassed', 'VBN'), ('100', 'CD'), ('.', '.')]\n"
     ]
    }
   ],
   "source": [
    "#test1\n",
    "test1_words_with_pos = list()\n",
    "for w in range(len(test1.index)):\n",
    "    if pd.notna(test1[w:w+1]['Word'].values[0]):\n",
    "        tup = (test1[w:w+1]['Word'].values[0] , test1[w:w+1]['POS'].values[0])\n",
    "        test1_words_with_pos.append(tup)\n",
    "#print(test1_words_with_pos)\n"
   ]
  },
  {
   "cell_type": "code",
   "execution_count": 68,
   "metadata": {},
   "outputs": [],
   "source": [
    "\n",
    "from nltk.tag import StanfordNERTagger\n",
    "# Stanford NER tagger    \n",
    "def stanford_tagger(token_text):\n",
    "\tst = StanfordNERTagger('./stanford-ner-4.0.0/classifiers/english.muc.7class.distsim.crf.ser.gz',\n",
    "\t\t\t\t\t\t\t'./stanford-ner-4.0.0/stanford-ner-4.0.0.jar',\n",
    "\t\t\t\t\t\t\tencoding='utf-8')   \n",
    "\tne_tagged = st.tag(token_text)\n",
    "\treturn(ne_tagged)"
   ]
  },
  {
   "cell_type": "code",
   "execution_count": 73,
   "metadata": {},
   "outputs": [],
   "source": [
    "def bio_tagger(ne_tagged):\n",
    "\t\tbio_tagged = []\n",
    "\t\tprev_tag = \"O\"\n",
    "\t\tfor token, tag in ne_tagged:\n",
    "\t\t\tif tag == \"O\": #O\n",
    "\t\t\t\tbio_tagged.append((token, tag))\n",
    "\t\t\t\tprev_tag = tag\n",
    "\t\t\t\tcontinue\n",
    "\t\t\tif tag != \"O\" and prev_tag == \"O\": # Begin NE\n",
    "\t\t\t\tbio_tagged.append((token, \"B-\"+tag))\n",
    "\t\t\t\tprev_tag = tag\n",
    "\t\t\telif prev_tag != \"O\" and prev_tag == tag: # Inside NE\n",
    "\t\t\t\tbio_tagged.append((token, \"I-\"+tag))\n",
    "\t\t\t\tprev_tag = tag\n",
    "\t\t\telif prev_tag != \"O\" and prev_tag != tag: # Adjacent NE\n",
    "\t\t\t\tbio_tagged.append((token, \"B-\"+tag))\n",
    "\t\t\t\tprev_tag = tag\n",
    "\t\treturn bio_tagged"
   ]
  },
  {
   "cell_type": "code",
   "execution_count": 74,
   "metadata": {
    "tags": []
   },
   "outputs": [],
   "source": [
    "#test1\n",
    "only_words = list()\n",
    "for w in test1['Word']:\n",
    "    if pd.notna(w):\n",
    "        only_words.append(w)\n",
    "#print(only_words)\n",
    "\n",
    "tokens,ne_tags = zip(*bio_tagger(stanford_tagger(only_words)))\n",
    "\n",
    "test1[\"Predicted\"] = ne_tags\n",
    "\n",
    "#test2\n",
    "only_words = list()\n",
    "for w in test2['Word']:\n",
    "    if pd.notna(w):\n",
    "        only_words.append(w)\n",
    "#print(only_words)\n",
    "\n",
    "tokens,ne_tags = zip(*bio_tagger(stanford_tagger(only_words)))\n",
    "\n",
    "test2[\"Predicted\"] = ne_tags\n",
    "#print(structure_ne(stanford_tree(bio_tagger(stanford_tagger(only_words)))))"
   ]
  },
  {
   "cell_type": "code",
   "execution_count": 71,
   "metadata": {},
   "outputs": [],
   "source": [
    "#beküldéshez\n",
    "for w in test1.index:\n",
    "    if test1.loc[w,'Predicted']=='B-LOCATION':\n",
    "        test1.loc[w,'Predicted']='B-geo'\n",
    "    if test1.loc[w,'Predicted']=='I-LOCATION':\n",
    "        test1.loc[w,'Predicted']='I-geo'\n",
    "\n",
    "    if test1.loc[w,'Predicted']=='B-PERSON':\n",
    "        test1.loc[w,'Predicted']='B-per'\n",
    "    if test1.loc[w,'Predicted']=='I-PERSON':\n",
    "        test1.loc[w,'Predicted']='I-per'\n",
    "\n",
    "    if test1.loc[w,'Predicted']=='B-DATE':\n",
    "        test1.loc[w,'Predicted']='O'\n",
    "    if test1.loc[w,'Predicted']=='I-DATE':\n",
    "        test1.loc[w,'Predicted']='O'\n",
    "\n",
    "    if test1.loc[w,'Predicted']=='B-ORGANIZATION':\n",
    "        test1.loc[w,'Predicted']='B-org'\n",
    "    if test1.loc[w,'Predicted']=='I-ORGANIZATION':\n",
    "        test1.loc[w,'Predicted']='I-org'\n",
    "\n",
    "    if test1.loc[w,'Predicted']=='B-TIME':\n",
    "        test1.loc[w,'Predicted']='B-time'\n",
    "    if test1.loc[w,'Predicted']=='I-TIME':\n",
    "        test1.loc[w,'Predicted']='I-time'\n",
    "\n",
    "    if test1.loc[w,'Predicted']=='B-MONEY':\n",
    "        test1.loc[w,'Predicted']='O'\n",
    "    if test1.loc[w,'Predicted']=='I-MONEY':\n",
    "        test1.loc[w,'Predicted']='O'\n",
    "\n",
    "    if test1.loc[w,'Predicted']=='B-PERCENT':\n",
    "        test1.loc[w,'Predicted']='O'\n",
    "    if test1.loc[w,'Predicted']=='I-PERCENT':\n",
    "        test1.loc[w,'Predicted']='O'\n",
    "\n",
    "\n",
    "test1.to_csv(\"Submission_1.csv\",index=False,sep = ';')\n",
    "\n",
    "#beküldéshez\n",
    "#submission2_df=test_df[['ID','p1']].copy()\n",
    "#submission2_df.columns=['Id','Predicted']\n",
    "#submission2_df.to_csv(\"JNH1DH.csv\",index=False)"
   ]
  },
  {
   "cell_type": "code",
   "execution_count": 72,
   "metadata": {},
   "outputs": [],
   "source": [
    "#beküldéshez\n",
    "for w in test2.index:\n",
    "    if test2.loc[w,'Predicted']=='B-LOCATION':\n",
    "        test2.loc[w,'Predicted']='B-geo'\n",
    "    if test2.loc[w,'Predicted']=='I-LOCATION':\n",
    "        test2.loc[w,'Predicted']='I-geo'\n",
    "\n",
    "    if test2.loc[w,'Predicted']=='B-PERSON':\n",
    "        test2.loc[w,'Predicted']='B-per'\n",
    "    if test2.loc[w,'Predicted']=='I-PERSON':\n",
    "        test2.loc[w,'Predicted']='I-per'\n",
    "\n",
    "    if test2.loc[w,'Predicted']=='B-DATE':\n",
    "        test2.loc[w,'Predicted']='O'\n",
    "    if test2.loc[w,'Predicted']=='I-DATE':\n",
    "        test2.loc[w,'Predicted']='O'\n",
    "\n",
    "    if test2.loc[w,'Predicted']=='B-ORGANIZATION':\n",
    "        test2.loc[w,'Predicted']='B-org'\n",
    "    if test2.loc[w,'Predicted']=='I-ORGANIZATION':\n",
    "        test2.loc[w,'Predicted']='I-org'\n",
    "\n",
    "    if test2.loc[w,'Predicted']=='B-TIME':\n",
    "        test2.loc[w,'Predicted']='B-time'\n",
    "    if test2.loc[w,'Predicted']=='I-TIME':\n",
    "        test2.loc[w,'Predicted']='I-time'\n",
    "\n",
    "    if test2.loc[w,'Predicted']=='B-MONEY':\n",
    "        test2.loc[w,'Predicted']='O'\n",
    "    if test2.loc[w,'Predicted']=='I-MONEY':\n",
    "        test2.loc[w,'Predicted']='O'\n",
    "\n",
    "    if test2.loc[w,'Predicted']=='B-PERCENT':\n",
    "        test2.loc[w,'Predicted']='O'\n",
    "    if test2.loc[w,'Predicted']=='I-PERCENT':\n",
    "        test2.loc[w,'Predicted']='O'\n",
    "\n",
    "\n",
    "test2.to_csv(\"Submission_2.csv\",index=False,sep = ';')\n",
    "\n",
    "#beküldéshez\n",
    "#submission2_df=test_df[['ID','p1']].copy()\n",
    "#submission2_df.columns=['Id','Predicted']\n",
    "#submission2_df.to_csv(\"JNH1DH.csv\",index=False)"
   ]
  }
 ],
 "metadata": {
  "language_info": {
   "name": "python",
   "codemirror_mode": {
    "name": "ipython",
    "version": 3
   },
   "version": "3.7.6-final"
  },
  "orig_nbformat": 2,
  "file_extension": ".py",
  "mimetype": "text/x-python",
  "name": "python",
  "npconvert_exporter": "python",
  "pygments_lexer": "ipython3",
  "version": 3,
  "kernelspec": {
   "name": "python37664bitbaseconda82c2496b1b4c44a38a11adee2c490de9",
   "display_name": "Python 3.7.6 64-bit ('base': conda)"
  }
 },
 "nbformat": 4,
 "nbformat_minor": 2
}